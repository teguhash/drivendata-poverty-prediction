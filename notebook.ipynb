{
 "cells": [
  {
   "cell_type": "code",
   "execution_count": null,
   "metadata": {},
   "outputs": [],
   "source": [
    "import pandas as pd\n",
    "import numpy as np\n",
    "from sklearn.model_selection import train_test_split, StratifiedKFold\n",
    "from sklearn.metrics import log_loss, accuracy_score, confusion_matrix, roc_auc_score\n",
    "from sklearn.feature_selection import RFE, SelectFromModel\n",
    "from xgboost import plot_importance, XGBClassifier\n",
    "from sklearn.ensemble import BaggingClassifier, VotingClassifier, RandomForestClassifier\n",
    "from sklearn.neighbors import KNeighborsClassifier\n",
    "from lightgbm.sklearn import LGBMClassifier\n",
    "from sklearn.svm import SVC\n",
    "from sklearn.linear_model import LogisticRegression\n",
    "\n",
    "pd.set_option('display.max_rows', 5000)\n",
    "pd.set_option('display.max_columns', 2000)"
   ]
  },
  {
   "cell_type": "code",
   "execution_count": null,
   "metadata": {},
   "outputs": [],
   "source": [
    "data_paths = {'A': {'train': { 'hhold': 'train/A_hhold_train.csv',\n",
    "                               'indiv': 'train/A_indiv_train.csv'}, \n",
    "                    'test':  { 'hhold': 'test/A_hhold_test.csv',\n",
    "                               'indiv': 'test/A_indiv_test.csv'}}, \n",
    "            \n",
    "              'B': {'train': { 'hhold': 'train/B_hhold_train.csv',\n",
    "                               'indiv': 'train/B_indiv_train.csv'}, \n",
    "                    'test':  { 'hhold': 'test/B_hhold_test.csv',\n",
    "                               'indiv': 'test/B_indiv_test.csv'}}, \n",
    "              \n",
    "              'C': {'train': { 'hhold': 'train/C_hhold_train.csv',\n",
    "                               'indiv': 'train/C_indiv_train.csv'}, \n",
    "                    'test':  { 'hhold': 'test/C_hhold_test.csv',\n",
    "                               'indiv': 'test/C_indiv_test.csv'}}}"
   ]
  },
  {
   "cell_type": "code",
   "execution_count": null,
   "metadata": {},
   "outputs": [],
   "source": [
    "a_hh_train = pd.read_csv(data_paths['A']['train']['hhold'], index_col='id')\n",
    "b_hh_train = pd.read_csv(data_paths['B']['train']['hhold'], index_col='id')\n",
    "c_hh_train = pd.read_csv(data_paths['C']['train']['hhold'], index_col='id')\n",
    "\n",
    "a_in_train = pd.read_csv(data_paths['A']['train']['indiv'], index_col=['id', 'iid'])\n",
    "b_in_train = pd.read_csv(data_paths['B']['train']['indiv'], index_col=['id', 'iid'])\n",
    "c_in_train = pd.read_csv(data_paths['C']['train']['indiv'], index_col=['id', 'iid'])\n",
    "\n",
    "a_hh_test = pd.read_csv(data_paths['A']['test']['hhold'], index_col='id')\n",
    "b_hh_test = pd.read_csv(data_paths['B']['test']['hhold'], index_col='id')\n",
    "c_hh_test = pd.read_csv(data_paths['C']['test']['hhold'], index_col='id')\n",
    "\n",
    "a_in_test = pd.read_csv(data_paths['A']['test']['indiv'], index_col=['id', 'iid'])\n",
    "b_in_test = pd.read_csv(data_paths['B']['test']['indiv'], index_col=['id', 'iid'])\n",
    "c_in_test = pd.read_csv(data_paths['C']['test']['indiv'], index_col=['id', 'iid'])\n",
    "\n",
    "train = {'a':{'hh': a_hh_train, 'in': a_in_train},\n",
    "         'b':{'hh': b_hh_train, 'in': b_in_train},\n",
    "         'c':{'hh': c_hh_train, 'in': c_in_train}}\n",
    "\n",
    "test = {'a':{'hh': a_hh_test, 'in': a_in_test},\n",
    "        'b':{'hh': b_hh_test, 'in': b_in_test},\n",
    "        'c':{'hh': c_hh_test, 'in': c_in_test}}"
   ]
  },
  {
   "cell_type": "code",
   "execution_count": null,
   "metadata": {},
   "outputs": [],
   "source": [
    "def stdize_numeric(df, numeric_only=True):\n",
    "    numeric = df.select_dtypes(include=['int64', 'float64'])    \n",
    "    for column in numeric.columns:\n",
    "        df[column] = (df[column] - df[column].mean()) / df[column].std()  \n",
    "    \n",
    "    return df\n",
    "\n",
    "\n",
    "def pre_process_data(df, enforce_cols=None):\n",
    "    print(\"Input shape:\\t{}\".format(df.shape))\n",
    "    \n",
    "    num_df = df.select_dtypes(include=['int64', 'float64'])\n",
    "    \n",
    "    num_df = stdize_numeric(num_df)\n",
    "    \n",
    "    print(\"Processing categorical data\")\n",
    "    \n",
    "    cat_df = df.select_dtypes('object')\n",
    "    \n",
    "    for column in cat_df.columns:\n",
    "        counts = cat_df[column].value_counts(normalize=True)\n",
    "        cat_df[column] = cat_df[column].apply(lambda x: counts[x])\n",
    "        \n",
    "    df = pd.merge(cat_df, num_df, left_index=True, right_index=True)\n",
    "        \n",
    "    # match test set and training set columns\n",
    "    if enforce_cols is not None:\n",
    "        to_drop = np.setdiff1d(df.columns, enforce_cols)\n",
    "        to_add = np.setdiff1d(enforce_cols, df.columns)\n",
    "\n",
    "        df.drop(to_drop, axis=1, inplace=True)\n",
    "        df = df.assign(**{c: 0 for c in to_add})\n",
    "        df = df[enforce_cols]\n",
    "    \n",
    "    print(\"Final columns length: \", len(df.columns))\n",
    "    df.fillna(0, inplace=True)\n",
    "    \n",
    "    return df"
   ]
  },
  {
   "cell_type": "code",
   "execution_count": null,
   "metadata": {},
   "outputs": [],
   "source": [
    "aX = pre_process_data(train['a']['hh'].drop(['poor', 'country'], axis=1))\n",
    "ay = np.ravel(train['a']['hh']['poor']).astype(float)\n",
    "\n",
    "bX = pre_process_data(train['b']['hh'].drop(['poor', 'country'], axis=1))\n",
    "by = np.ravel(train['b']['hh']['poor']).astype(float)\n",
    "\n",
    "cX = pre_process_data(train['c']['hh'].drop(['poor', 'country'], axis=1))\n",
    "cy = np.ravel(train['c']['hh']['poor']).astype(float)"
   ]
  },
  {
   "cell_type": "code",
   "execution_count": null,
   "metadata": {},
   "outputs": [],
   "source": [
    "aX_train, aX_test, ay_train, ay_test = train_test_split(aX, ay, test_size=0.2, shuffle=True, stratify=ay)\n",
    "bX_train, bX_test, by_train, by_test = train_test_split(bX, by, test_size=0.2, shuffle=True, stratify=by)\n",
    "cX_train, cX_test, cy_train, cy_test = train_test_split(cX, cy, test_size=0.2, shuffle=True, stratify=cy)"
   ]
  },
  {
   "cell_type": "code",
   "execution_count": null,
   "metadata": {},
   "outputs": [],
   "source": [
    "def train_model(X_train, y_train, X_test = None, y_test = None, thresh=0.04):\n",
    "\n",
    "    # model for feature selection\n",
    "    model = XGBClassifier()\n",
    "    \n",
    "    model.fit(X_train, y_train)\n",
    "    \n",
    "    y_pred = model.predict_proba(X_train)[:, 1]\n",
    "    \n",
    "    predictions = [round(value) for value in y_pred]\n",
    "    accuracy = accuracy_score(y_train, predictions)\n",
    "    cf = confusion_matrix(y_train, predictions)\n",
    "    loss = log_loss(y_train, y_pred, normalize=True)\n",
    "    auroc = roc_auc_score(y_train, y_pred)\n",
    "    \n",
    "    print(\"Train set accuracy: \", accuracy)\n",
    "    print(\"Train set CF: \\n\", cf)\n",
    "    print(\"Train set log loss: \", loss)\n",
    "    print(\"Train set AUROC: \", auroc)\n",
    "    \n",
    "    if X_test is not None and y_test is not None:\n",
    "        y_pred = model.predict_proba(X_test)[:, 1]\n",
    "    \n",
    "        predictions = [round(value) for value in y_pred]\n",
    "        accuracy = accuracy_score(y_test, predictions)\n",
    "        cf = confusion_matrix(y_test, predictions)\n",
    "        loss = log_loss(y_test, y_pred, normalize=True)\n",
    "        auroc = roc_auc_score(y_test, y_pred)\n",
    "    \n",
    "        print(\"Test set accuracy: \", accuracy)\n",
    "        print(\"Test set CF: \\n\", cf)\n",
    "        print(\"Test set log loss: \", loss)\n",
    "        print(\"auroc: \", auroc)\n",
    "    \n",
    "    selection = SelectFromModel(model, threshold=thresh, prefit=True)\n",
    "    select_X_train = selection.transform(X_train)\n",
    "    \n",
    "    # train model\n",
    "    lr = LogisticRegression()\n",
    "    svc = SVC(kernel='rbf', probability=True)\n",
    "    lgbm = LGBMClassifier(max_depth=300,\n",
    "                        num_leaves=127,\n",
    "                        n_estimators=1000,\n",
    "                        min_child_weight=1,\n",
    "                        learning_rate=0.01,\n",
    "                        nthread=16,\n",
    "                        subsample=0.8,\n",
    "                        colsample_bytree=1.0,\n",
    "                        colsample_bylevel=1.0,\n",
    "                        seed=42)\n",
    "    xgbt = XGBClassifier(subsample=0.8, colsample_bytree=1.0, colsample_bylevel=1.0, n_estimators=200)\n",
    "    \n",
    "    estimators = [('lr', lr), ('svc', svc), ('xgb', xgbt), ('lgbm', lgbm)]\n",
    "\n",
    "    selection_model = VotingClassifier(estimators=estimators, voting='soft', n_jobs=16)\n",
    "    \n",
    "    selection_model.fit(select_X_train, y_train)\n",
    "    # eval model\n",
    "    if X_test is not None and y_test is not None:\n",
    "        select_X_test = selection.transform(X_test)\n",
    "\n",
    "        y_pred = selection_model.predict_proba(select_X_test)[:]\n",
    "\n",
    "        predictions = [round(value) for value in y_pred]\n",
    "        accuracy = accuracy_score(y_test, predictions)\n",
    "        cf = confusion_matrix(y_test, predictions)\n",
    "        loss = log_loss(y_test, y_pred, normalize=True)\n",
    "        auroc = roc_auc_score(y_test, y_pred)\n",
    "\n",
    "        print(\"Test set accuracy: \", accuracy)\n",
    "        print(\"Test set CF: \\n\", cf)\n",
    "        print(\"Test set log loss: \", loss)\n",
    "        print(\"auroc: \", auroc)\n",
    "        print(\"Thresh=%.3f, n=%d, Accuracy: %.2f%%\" % (thresh, select_X_train.shape[1], accuracy*100.0))\n",
    "        \n",
    "    return selection, selection_model"
   ]
  },
  {
   "cell_type": "code",
   "execution_count": null,
   "metadata": {},
   "outputs": [],
   "source": [
    "selection_a, model_a = train_model(aX_train, ay_train, aX_test, ay_test, thresh=0.004) #0.004"
   ]
  },
  {
   "cell_type": "code",
   "execution_count": null,
   "metadata": {},
   "outputs": [],
   "source": [
    "selection_b, model_b = train_model(bX_train, by_train , bX_test, by_test, thresh=0.006) #0.006"
   ]
  },
  {
   "cell_type": "code",
   "execution_count": null,
   "metadata": {},
   "outputs": [],
   "source": [
    "selection_c, model_c = train_model(cX_train, cy_train, cX_test, cy_test, thresh=0.02) #0.02"
   ]
  },
  {
   "cell_type": "code",
   "execution_count": null,
   "metadata": {},
   "outputs": [],
   "source": [
    "def make_country_sub(preds, test_df, country):\n",
    "    # make sure we code the country correctly\n",
    "    country_codes = ['A', 'B', 'C']\n",
    "    \n",
    "    # get just the poor probabilities\n",
    "    country_sub = pd.DataFrame(data=preds[:, 1],  # proba p=1\n",
    "                               columns=['poor'],\n",
    "                               index=test_df.index)\n",
    "    \n",
    "    # add the country code for joining later\n",
    "    country_sub[\"country\"] = country\n",
    "    return country_sub[[\"country\", \"poor\"]]"
   ]
  },
  {
   "cell_type": "code",
   "execution_count": null,
   "metadata": {},
   "outputs": [],
   "source": [
    "test_aX = pre_process_data(test['a']['hh'], enforce_cols = aX.columns)\n",
    "test_bX = pre_process_data(test['b']['hh'], enforce_cols = bX.columns)\n",
    "test_cX = pre_process_data(test['c']['hh'], enforce_cols = cX.columns)"
   ]
  },
  {
   "cell_type": "code",
   "execution_count": null,
   "metadata": {},
   "outputs": [],
   "source": [
    "test_fs_aX = selection_a.transform(test_aX) #feature selected\n",
    "test_fs_bX = selection_b.transform(test_bX)\n",
    "test_fs_cX = selection_c.transform(test_cX)"
   ]
  },
  {
   "cell_type": "code",
   "execution_count": null,
   "metadata": {},
   "outputs": [],
   "source": [
    "a_preds = model_a.predict_proba(test_fs_aX)\n",
    "a_sub = make_country_sub(a_preds, test_aX, 'A')\n",
    "\n",
    "b_preds = model_b.predict_proba(test_fs_bX)\n",
    "b_sub = make_country_sub(b_preds, test_bX, 'B')\n",
    "\n",
    "c_preds = model_c.predict_proba(test_fs_cX)\n",
    "c_sub = make_country_sub(c_preds, test_cX, 'C')"
   ]
  },
  {
   "cell_type": "code",
   "execution_count": null,
   "metadata": {},
   "outputs": [],
   "source": [
    "a_sub.head()"
   ]
  },
  {
   "cell_type": "code",
   "execution_count": null,
   "metadata": {},
   "outputs": [],
   "source": [
    "b_sub.head()"
   ]
  },
  {
   "cell_type": "code",
   "execution_count": null,
   "metadata": {},
   "outputs": [],
   "source": [
    "c_sub.tail()"
   ]
  },
  {
   "cell_type": "code",
   "execution_count": null,
   "metadata": {},
   "outputs": [],
   "source": [
    "submission = pd.concat([a_sub, b_sub, c_sub])"
   ]
  },
  {
   "cell_type": "code",
   "execution_count": null,
   "metadata": {},
   "outputs": [],
   "source": [
    "submission.head()"
   ]
  },
  {
   "cell_type": "code",
   "execution_count": null,
   "metadata": {},
   "outputs": [],
   "source": [
    "submission.to_csv(\"sub.csv\")"
   ]
  },
  {
   "cell_type": "code",
   "execution_count": null,
   "metadata": {},
   "outputs": [],
   "source": []
  }
 ],
 "metadata": {
  "kernelspec": {
   "display_name": "Python 3",
   "language": "python",
   "name": "python3"
  },
  "language_info": {
   "codemirror_mode": {
    "name": "ipython",
    "version": 3
   },
   "file_extension": ".py",
   "mimetype": "text/x-python",
   "name": "python",
   "nbconvert_exporter": "python",
   "pygments_lexer": "ipython3",
   "version": "3.5.4"
  }
 },
 "nbformat": 4,
 "nbformat_minor": 2
}
